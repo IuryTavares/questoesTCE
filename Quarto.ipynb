{
  "nbformat": 4,
  "nbformat_minor": 0,
  "metadata": {
    "colab": {
      "name": "Quarto.ipynb",
      "provenance": []
    },
    "kernelspec": {
      "name": "python3",
      "display_name": "Python 3"
    },
    "language_info": {
      "name": "python"
    }
  },
  "cells": [
    {
      "cell_type": "code",
      "metadata": {
        "id": "7xVBT3Le13cH"
      },
      "source": [
        "import sklearn as sk\n",
        "import numpy\n",
        "import matplotlib\n",
        "from sklearn import datasets\n",
        "\n",
        "from sklearn.neighbors import KNeighborsClassifier\n",
        "from sklearn.svm import SVC\n",
        "from sklearn.naive_bayes import GaussianNB\n",
        "\n",
        "from sklearn.model_selection import train_test_split\n",
        "from sklearn.model_selection import cross_val_score\n",
        "import numpy\n",
        "from sklearn.model_selection import cross_validate"
      ],
      "execution_count": 7,
      "outputs": []
    },
    {
      "cell_type": "code",
      "metadata": {
        "id": "m5w_oyt828Do",
        "colab": {
          "base_uri": "https://localhost:8080/"
        },
        "outputId": "c9e0c0cb-622e-48d1-8ec4-80f2499f64d8"
      },
      "source": [
        "df = pd.read_csv('/content/drive/MyDrive/Colab Notebooks/yeast (1).csv', sep='\\t')\n",
        "\n",
        "\n"
      ],
      "execution_count": 14,
      "outputs": [
        {
          "output_type": "stream",
          "text": [
            "0       MIT\n",
            "1       MIT\n",
            "2       NUC\n",
            "3       MIT\n",
            "4       CYT\n",
            "       ... \n",
            "1478    ME2\n",
            "1479    NUC\n",
            "1480    ME2\n",
            "1481    NUC\n",
            "1482    CYT\n",
            "Name: MIT, Length: 1483, dtype: object\n"
          ],
          "name": "stdout"
        }
      ]
    },
    {
      "cell_type": "code",
      "metadata": {
        "id": "kl2A3QB5A64Y"
      },
      "source": [
        "# selecionando todos os dados da últimas coluna do dataset\n",
        "rotulos = df[df.columns[-1]]\n",
        "\n",
        "\n",
        "#print(rotulos)"
      ],
      "execution_count": null,
      "outputs": []
    },
    {
      "cell_type": "code",
      "metadata": {
        "id": "gQaPimNgBf4E"
      },
      "source": [
        "# removendo a última coluna e deixando somente os atributos\n",
        "dados = df.drop('MIT', axis=1)\n",
        "\n",
        "\n",
        "dados_treino, dados_teste, rotulos_treino, rotulos_teste = train_test_split(dados, rotulos, test_size=0.6)"
      ],
      "execution_count": 17,
      "outputs": []
    },
    {
      "cell_type": "code",
      "metadata": {
        "colab": {
          "base_uri": "https://localhost:8080/"
        },
        "id": "Ybp22NvmCF_q",
        "outputId": "bce576b1-3350-42a3-86e6-cdec8adb480f"
      },
      "source": [
        "knn = KNeighborsClassifier () \n",
        "\n",
        "\n",
        "knn.fit(dados_treino, rotulos_treino)\n",
        "knn.score(dados_teste, rotulos_teste)\n"
      ],
      "execution_count": 18,
      "outputs": [
        {
          "output_type": "execute_result",
          "data": {
            "text/plain": [
              "0.5516853932584269"
            ]
          },
          "metadata": {
            "tags": []
          },
          "execution_count": 18
        }
      ]
    },
    {
      "cell_type": "code",
      "metadata": {
        "colab": {
          "base_uri": "https://localhost:8080/"
        },
        "id": "nYlIBVadCOUr",
        "outputId": "13bd804c-4bc6-4121-ee35-1377f8113f0c"
      },
      "source": [
        "scores = cross_val_score(knn, dados, rotulos, cv=4)\n",
        "\n",
        "print(scores)\n",
        "\n",
        "print(\"Cross Validation knn: \",numpy.mean(scores))"
      ],
      "execution_count": 19,
      "outputs": [
        {
          "output_type": "stream",
          "text": [
            "[0.53369272 0.54986523 0.52291105 0.57297297]\n",
            "Cross Validation knn:  0.5448604939170977\n"
          ],
          "name": "stdout"
        }
      ]
    }
  ]
}