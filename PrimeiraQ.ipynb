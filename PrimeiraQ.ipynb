{
  "nbformat": 4,
  "nbformat_minor": 0,
  "metadata": {
    "colab": {
      "name": "PrimeiraQ.ipynb",
      "provenance": []
    },
    "kernelspec": {
      "name": "python3",
      "display_name": "Python 3"
    },
    "language_info": {
      "name": "python"
    }
  },
  "cells": [
    {
      "cell_type": "code",
      "metadata": {
        "id": "Mb1Rwtf6Sj9k"
      },
      "source": [
        "import pandas as pd\n",
        "import matplotlib.pyplot as plt\n",
        "import numpy as np "
      ],
      "execution_count": 210,
      "outputs": []
    },
    {
      "cell_type": "code",
      "metadata": {
        "colab": {
          "base_uri": "https://localhost:8080/",
          "height": 201
        },
        "id": "GJi6xAfrTPve",
        "outputId": "002df527-cabd-4995-fb5b-a84d0c925fb6"
      },
      "source": [
        "data = pd.read_csv('/content/drive/My Drive/Colab Notebooks/dados.txt', sep=\"\\t\")\n"
      ],
      "execution_count": 252,
      "outputs": [
        {
          "output_type": "error",
          "ename": "TypeError",
          "evalue": "ignored",
          "traceback": [
            "\u001b[0;31m---------------------------------------------------------------------------\u001b[0m",
            "\u001b[0;31mTypeError\u001b[0m                                 Traceback (most recent call last)",
            "\u001b[0;32m<ipython-input-252-77b9cd4a6c0b>\u001b[0m in \u001b[0;36m<module>\u001b[0;34m()\u001b[0m\n\u001b[1;32m      1\u001b[0m \u001b[0mdata\u001b[0m \u001b[0;34m=\u001b[0m \u001b[0mpd\u001b[0m\u001b[0;34m.\u001b[0m\u001b[0mread_csv\u001b[0m\u001b[0;34m(\u001b[0m\u001b[0;34m'/content/drive/My Drive/Colab Notebooks/dados.txt'\u001b[0m\u001b[0;34m,\u001b[0m \u001b[0msep\u001b[0m\u001b[0;34m=\u001b[0m\u001b[0;34m\"\\t\"\u001b[0m\u001b[0;34m)\u001b[0m\u001b[0;34m\u001b[0m\u001b[0;34m\u001b[0m\u001b[0m\n\u001b[1;32m      2\u001b[0m \u001b[0;34m\u001b[0m\u001b[0m\n\u001b[0;32m----> 3\u001b[0;31m \u001b[0mprint\u001b[0m\u001b[0;34m(\u001b[0m\u001b[0mdata\u001b[0m\u001b[0;34m[\u001b[0m\u001b[0;34m'vl_pag'\u001b[0m\u001b[0;34m]\u001b[0m\u001b[0;34m.\u001b[0m\u001b[0mcov\u001b[0m\u001b[0;34m(\u001b[0m\u001b[0;34m)\u001b[0m\u001b[0;34m)\u001b[0m\u001b[0;34m\u001b[0m\u001b[0;34m\u001b[0m\u001b[0m\n\u001b[0m",
            "\u001b[0;31mTypeError\u001b[0m: cov() missing 1 required positional argument: 'other'"
          ]
        }
      ]
    },
    {
      "cell_type": "code",
      "metadata": {
        "colab": {
          "base_uri": "https://localhost:8080/",
          "height": 294
        },
        "id": "NRAx3u46ZH6L",
        "outputId": "9e9c4716-4c3b-47e4-d402-8b67d7b590db"
      },
      "source": [
        "dataSorted = data.sort_values(by=['dt_pag'])\n",
        "\n",
        "#dataSorted.head()\n",
        "\n",
        "Janeiro = dataSorted[dataSorted['dt_pag'].between(\"2020-01-01\",\"2020-01-31\")]\n",
        "Fevereiro = dataSorted[dataSorted['dt_pag'].between(\"2020-02-01\",\"2020-02-29\")]\n",
        "Marco = dataSorted[dataSorted['dt_pag'].between(\"2020-03-01\",\"2020-03-31\")]\n",
        "Abril = dataSorted[dataSorted['dt_pag'].between(\"2020-04-01\",\"2020-04-30\")]\n",
        "Maio = dataSorted[dataSorted['dt_pag'].between(\"2020-05-01\",\"2020-05-31\")]\n",
        "Junho = dataSorted[dataSorted['dt_pag'].between(\"2020-06-01\",\"2020-06-30\")]\n",
        "Julho = dataSorted[dataSorted['dt_pag'].between(\"2020-07-01\",\"2020-07-31\")]\n",
        "Agosto = dataSorted[dataSorted['dt_pag'].between(\"2020-08-01\",\"2020-08-31\")]\n",
        "Setembro = dataSorted[dataSorted['dt_pag'].between(\"2020-09-01\",\"2020-09-30\")]\n",
        "Outubro = dataSorted[dataSorted['dt_pag'].between(\"2020-10-01\",\"2020-10-31\")]\n",
        "Novembro = dataSorted[dataSorted['dt_pag'].between(\"2020-11-01\",\"2020-11-30\")]\n",
        "Dezembro = dataSorted[dataSorted['dt_pag'].between(\"2020-12-01\",\"2020-12-31\")]\n",
        "\n",
        "\n",
        "\n",
        "\n",
        "\n"
      ],
      "execution_count": 241,
      "outputs": [
        {
          "output_type": "execute_result",
          "data": {
            "text/html": [
              "<div>\n",
              "<style scoped>\n",
              "    .dataframe tbody tr th:only-of-type {\n",
              "        vertical-align: middle;\n",
              "    }\n",
              "\n",
              "    .dataframe tbody tr th {\n",
              "        vertical-align: top;\n",
              "    }\n",
              "\n",
              "    .dataframe thead th {\n",
              "        text-align: right;\n",
              "    }\n",
              "</style>\n",
              "<table border=\"1\" class=\"dataframe\">\n",
              "  <thead>\n",
              "    <tr style=\"text-align: right;\">\n",
              "      <th></th>\n",
              "      <th>vl_pag</th>\n",
              "      <th>dias_para_pagamento</th>\n",
              "    </tr>\n",
              "  </thead>\n",
              "  <tbody>\n",
              "    <tr>\n",
              "      <th>count</th>\n",
              "      <td>4.840000e+02</td>\n",
              "      <td>484.000000</td>\n",
              "    </tr>\n",
              "    <tr>\n",
              "      <th>mean</th>\n",
              "      <td>4.463404e+04</td>\n",
              "      <td>20.185950</td>\n",
              "    </tr>\n",
              "    <tr>\n",
              "      <th>std</th>\n",
              "      <td>1.713165e+05</td>\n",
              "      <td>14.562585</td>\n",
              "    </tr>\n",
              "    <tr>\n",
              "      <th>min</th>\n",
              "      <td>6.903000e+01</td>\n",
              "      <td>0.000000</td>\n",
              "    </tr>\n",
              "    <tr>\n",
              "      <th>25%</th>\n",
              "      <td>2.518963e+03</td>\n",
              "      <td>8.000000</td>\n",
              "    </tr>\n",
              "    <tr>\n",
              "      <th>50%</th>\n",
              "      <td>7.495690e+03</td>\n",
              "      <td>18.000000</td>\n",
              "    </tr>\n",
              "    <tr>\n",
              "      <th>75%</th>\n",
              "      <td>2.835131e+04</td>\n",
              "      <td>29.000000</td>\n",
              "    </tr>\n",
              "    <tr>\n",
              "      <th>max</th>\n",
              "      <td>3.081283e+06</td>\n",
              "      <td>69.000000</td>\n",
              "    </tr>\n",
              "  </tbody>\n",
              "</table>\n",
              "</div>"
            ],
            "text/plain": [
              "             vl_pag  dias_para_pagamento\n",
              "count  4.840000e+02           484.000000\n",
              "mean   4.463404e+04            20.185950\n",
              "std    1.713165e+05            14.562585\n",
              "min    6.903000e+01             0.000000\n",
              "25%    2.518963e+03             8.000000\n",
              "50%    7.495690e+03            18.000000\n",
              "75%    2.835131e+04            29.000000\n",
              "max    3.081283e+06            69.000000"
            ]
          },
          "metadata": {
            "tags": []
          },
          "execution_count": 241
        }
      ]
    },
    {
      "cell_type": "code",
      "metadata": {
        "id": "UG5MtjAafMVr"
      },
      "source": [
        "#Janeiro\n",
        "print(Janeiro[\"vl_pag\"].quantile(0.95))\n",
        "Janeiro[\"vl_pag\"]= np.where(Janeiro[\"vl_pag\"] >119759.458, 119759.458, Janeiro['vl_pag'])\n",
        "\n",
        "#Fevereiro\n",
        "print(Fevereiro[\"vl_pag\"].quantile(0.95))\n",
        "Fevereiro[\"vl_pag\"]= np.where(Fevereiro[\"vl_pag\"] >324307.06549999974, 324307.06549999974, Fevereiro['vl_pag'])\n",
        "\n",
        "#Marco\n",
        "print(Marco[\"vl_pag\"].quantile(0.95))\n",
        "Marco[\"vl_pag\"]= np.where(Marco[\"vl_pag\"] >169147.34199999995, 169147.34199999995, Marco['vl_pag'])\n",
        "\n",
        "#Abril\n",
        "print(Abril[\"vl_pag\"].quantile(0.95))\n",
        "Abril[\"vl_pag\"]= np.where(Abril[\"vl_pag\"] >229644.9775, 229644.9775, Abril['vl_pag'])\n",
        "\n",
        "#Maio\n",
        "print(Maio[\"vl_pag\"].quantile(0.95))\n",
        "Maio[\"vl_pag\"]= np.where(Maio[\"vl_pag\"] >223363.2249999994, 223363.2249999994, Maio['vl_pag'])\n",
        "\n",
        "#Junho\n",
        "print(Junho[\"vl_pag\"].quantile(0.95))\n",
        "Junho[\"vl_pag\"]= np.where(Junho[\"vl_pag\"] >211801.24299999984, 211801.24299999984, Junho['vl_pag'])\n",
        "\n",
        "#Julho\n",
        "print(Julho[\"vl_pag\"].quantile(0.95))\n",
        "Julho[\"vl_pag\"]= np.where(Julho[\"vl_pag\"] >169147.34199999995, 169147.34199999995, Julho['vl_pag'])\n",
        "\n",
        "#Agosto\n",
        "print(Agosto[\"vl_pag\"].quantile(0.95))\n",
        "Agosto[\"vl_pag\"]= np.where(Agosto[\"vl_pag\"] >164531.17199999973, 164531.17199999973, Agosto['vl_pag'])\n",
        "\n",
        "#Setembro\n",
        "print(Setembro[\"vl_pag\"].quantile(0.95))\n",
        "Setembro[\"vl_pag\"]= np.where(Setembro[\"vl_pag\"] >365725.7739999981, 365725.7739999981, Setembro['vl_pag'])\n",
        "\n",
        "#Outubro\n",
        "print(Outubro[\"vl_pag\"].quantile(0.95))\n",
        "\n",
        "\n"
      ],
      "execution_count": null,
      "outputs": []
    },
    {
      "cell_type": "code",
      "metadata": {
        "colab": {
          "base_uri": "https://localhost:8080/",
          "height": 516
        },
        "id": "LnJ1C7HN0jw4",
        "outputId": "7a35584f-1c29-485f-b027-c56ac4d2c2e6"
      },
      "source": [
        "data = [Janeiro['vl_pag'], Fevereiro['vl_pag'], Marco['vl_pag'], Abril['vl_pag'], Maio['vl_pag'], \n",
        "        Junho['vl_pag'], Julho['vl_pag'], Agosto['vl_pag'], Setembro['vl_pag'], Outubro['vl_pag'], \n",
        "        Novembro['vl_pag'], Dezembro['vl_pag']]\n",
        "\n",
        "fig = plt.figure(figsize =(10, 7))\n",
        "\n",
        "# Criando eixos para instancia\n",
        "ax = fig.add_subplot(111)\n",
        "bp = ax.boxplot(data, patch_artist = True,\n",
        "                notch ='True', vert = 0, showfliers=True)\n",
        "\n",
        "#mudanco a cor da palheta \n",
        "colors = ['#0000FF', '#00FF00',\n",
        "          '#FFFF00', '#696969',\n",
        "          '#6A5ACD', '#008080',\n",
        "          '#808000', '#8A2BE2']\n",
        " \n",
        "for patch, color in zip(bp['boxes'], colors):\n",
        "    patch.set_facecolor(color)\n",
        "\n",
        "# mudança de cor e largura de linha de\n",
        "# medianas \n",
        "\n",
        "for median in bp['medians']:\n",
        "    median.set(color ='red',\n",
        "               linewidth = 3)\n",
        "# x-axis labels\n",
        "ax.set_yticklabels(['janeiro', 'fevereiro',\n",
        "                    'marco', 'abril',\n",
        "                   'maio','junho',\n",
        "                   'julho','agosto',\n",
        "                   'setembro','outubro',\n",
        "                   'novembro', 'dezembro'])\n",
        "# Adding title\n",
        "plt.title(\"Pagamentos por meses\")\n",
        "\n",
        "\n",
        "\n",
        "\n",
        "\n",
        "#plt.boxplot(Data, showfliers=False)"
      ],
      "execution_count": 222,
      "outputs": [
        {
          "output_type": "stream",
          "text": [
            "/usr/local/lib/python3.7/dist-packages/numpy/core/_asarray.py:83: VisibleDeprecationWarning: Creating an ndarray from ragged nested sequences (which is a list-or-tuple of lists-or-tuples-or ndarrays with different lengths or shapes) is deprecated. If you meant to do this, you must specify 'dtype=object' when creating the ndarray\n",
            "  return array(a, dtype, copy=False, order=order)\n"
          ],
          "name": "stderr"
        },
        {
          "output_type": "execute_result",
          "data": {
            "text/plain": [
              "Text(0.5, 1.0, 'Pagamentos por meses')"
            ]
          },
          "metadata": {
            "tags": []
          },
          "execution_count": 222
        },
        {
          "output_type": "display_data",
          "data": {
            "image/png": "[encoded data removed]",
            "text/plain": [
              "<Figure size 720x504 with 1 Axes>"
            ]
          },
          "metadata": {
            "tags": [],
            "needs_background": "light"
          }
        }
      ]
    }
  ]
}